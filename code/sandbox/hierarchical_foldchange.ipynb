{
 "cells": [
  {
   "cell_type": "markdown",
   "metadata": {},
   "source": [
    "# Exploring Autofluorescence and Delta Distributions\n",
    "\n",
    "© 2019 Griffin Chure. This work is licensed under a [Creative Commons Attribution License CC-BY 4.0](https://creativecommons.org/licenses/by/4.0/). All code contained herein is licensed under an [MIT license](https://opensource.org/licenses/MIT).\n",
    "\n",
    "--- "
   ]
  },
  {
   "cell_type": "code",
   "execution_count": null,
   "metadata": {},
   "outputs": [],
   "source": [
    "import sys \n",
    "sys.path.insert(0, '../../')\n",
    "import numpy as np\n",
    "import pandas as pd\n",
    "import glob\n",
    "import altair as alt\n",
    "import altair_catplot as altcat\n",
    "import matplotlib.pyplot as plt\n",
    "import act.viz\n",
    "import pystan\n",
    "import bebi103.viz\n",
    "import bokeh.io\n",
    "colors = act.viz.personal_style()\n",
    "alt.renderers.enable('json')\n",
    "\n",
    "%load_ext stanmagic\n",
    "bokeh.io.output_notebook()"
   ]
  },
  {
   "cell_type": "code",
   "execution_count": null,
   "metadata": {},
   "outputs": [],
   "source": [
    "# Load all simple and wt flow settings. \n",
    "simple_delta_files = glob.glob('../../data/flow/csv/*27yfp*delta*.csv')\n",
    "simple_auto_files = glob.glob('../../data/flow/csv/*27yfp*auto*.csv')\n",
    "dfs = []\n",
    "for d, a in zip(simple_delta_files, simple_auto_files):\n",
    "    d_date = d.split('/')[-1].split('_')[0]\n",
    "    a_date = a.split('/')[-1].split('_')[0]\n",
    "    d_df = pd.read_csv(d)[['gate','FITC-H']]\n",
    "    a_df = pd.read_csv(a)[['FITC-H', 'gate']]\n",
    "    d_df['date'] = d_date\n",
    "    d_df['strain'] = 'delta'\n",
    "    a_df['date'] = a_date\n",
    "    a_df['strain'] = 'auto'\n",
    "    dfs.append(d_df)\n",
    "    dfs.append(a_df)\n",
    "simple_df = pd.concat(dfs)"
   ]
  },
  {
   "cell_type": "code",
   "execution_count": null,
   "metadata": {},
   "outputs": [],
   "source": [
    "fig, ax = plt.subplots(1, 1)\n",
    "_colors = {'auto':'black',\n",
    "           'delta':'tomato'}\n",
    "\n",
    "for g, d in simple_df.groupby(['date', 'strain']):\n",
    "    _d = d[d['gate']==1].copy()\n",
    "    x = np.sort(d['FITC-H'])\n",
    "    y = np.linspace(0, 1, len(d))\n",
    "    ax.step(x, y, color=_colors[g[1]], lw=1) \n",
    "    \n",
    "ax.set_xscale('log')\n",
    "ax.set_xlim([1E2, 1E3])"
   ]
  },
  {
   "cell_type": "code",
   "execution_count": null,
   "metadata": {},
   "outputs": [],
   "source": [
    "means = simple_df[simple_df['gate']==1].groupby(['date', 'strain'])['FITC-H'].mean().reset_index()\n",
    "means"
   ]
  },
  {
   "cell_type": "code",
   "execution_count": null,
   "metadata": {},
   "outputs": [],
   "source": [
    "grouped =  simple_df[simple_df['gate']==1].groupby(['date', 'strain'])['FITC-H'].mean().reset_index()\n",
    "\n",
    "\n"
   ]
  },
  {
   "cell_type": "code",
   "execution_count": null,
   "metadata": {},
   "outputs": [],
   "source": [
    "(recording)[l]"
   ]
  },
  {
   "cell_type": "code",
   "execution_count": null,
   "metadata": {},
   "outputs": [],
   "source": [
    "%%stan -v hier_model\n",
    "data {\n",
    "    int<lower=0> N;\n",
    "    real<lower=0> mean_auto[N];\n",
    "    real<lower=0> mean_delta[N];\n",
    "}\n",
    "\n",
    "parameters {\n",
    "    real<lower=0> mu_auto;\n",
    "    real<lower=0> mu_delta;\n",
    "    real<lower=0> sigma;\n",
    "}\n",
    "\n",
    "model {\n",
    "    mu_auto ~ lognormal(2, 2);\n",
    "    mu_delta ~ lognormal(2, 2);\n",
    "    sigma ~ normal(0, 10);\n",
    "    \n",
    "    for (i in 1:N) {\n",
    "        mean_auto ~ normal(mu_auto, sigma);\n",
    "        mean_delta ~ normal(mu_delta, sigma);\n",
    "    }\n",
    "}\n"
   ]
  },
  {
   "cell_type": "code",
   "execution_count": null,
   "metadata": {},
   "outputs": [],
   "source": [
    "model = pystan.StanModel(model_code=hier_model.model_code)"
   ]
  },
  {
   "cell_type": "code",
   "execution_count": null,
   "metadata": {},
   "outputs": [],
   "source": [
    "data_dict = {'N': len(simple_df['date'].unique()),\n",
    "             'mean_auto': grouped[grouped['strain']=='auto']['FITC-H'], \n",
    "             'mean_delta':  grouped[grouped['strain']=='delta']['FITC-H']}\n",
    "samples = model.sampling(data_dict)\n",
    "samples_df = samples.to_dataframe()"
   ]
  },
  {
   "cell_type": "code",
   "execution_count": null,
   "metadata": {},
   "outputs": [],
   "source": [
    "fig, ax = plt.subplots(1, 1)\n",
    "ax.hist(samples_df['mu_auto'], bins=50, label='auto', \n",
    "           density=True, histtype='stepfilled', alpha=0.5)\n",
    "ax.hist(samples_df['mu_delta'], bins=50, label='delta',\n",
    "           density=True, histtype='stepfilled', alpha=0.5)\n",
    "plt.legend()"
   ]
  },
  {
   "cell_type": "code",
   "execution_count": null,
   "metadata": {},
   "outputs": [],
   "source": [
    "plt.plot(samples_df['mu_auto'], samples_df['sigma'], '.', color='black', alpha=0.5)\n",
    "plt.plot(samples_df['mu_delta'], samples_df['sigma'], '.', color='tomato', alpha=0.5)"
   ]
  },
  {
   "cell_type": "markdown",
   "metadata": {},
   "source": [
    "## Computing hierarchical fold-change "
   ]
  },
  {
   "cell_type": "code",
   "execution_count": 124,
   "metadata": {},
   "outputs": [
    {
     "name": "stdout",
     "output_type": "stream",
     "text": [
      "Using pystan.stanc compiler..\n",
      "-------------------------------------------------------------------------------\n",
      "Model compiled successfully. Output stored in fc_hier object.\n",
      "Type fc_hier in a cell to see a nicely formatted code output in a notebook\n",
      "     ^^^^^^^\n",
      "Access model compile output properties\n",
      "fc_hier.model_file -> Name of stan_file [None]\n",
      "fc_hier.model_name -> Name of stan model [None]\n",
      "fc_hier.model_code -> Model code [data {     int<lower ....]\n"
     ]
    }
   ],
   "source": [
    "%%stan -v fc_hier\n",
    "data {\n",
    "    int<lower=0> N_auto; // Total number of measurements\n",
    "    int<lower=0> N_delta;\n",
    "    int<lower=0> N;\n",
    "    int<lower=0> J; // Total number of concentrations\n",
    "    int<lower=0, upper=J> idx[N]; \n",
    "    vector<lower=0>[N]  means;  \n",
    "    vector<lower=0>[N_auto] autofl;\n",
    "    vector<lower=0>[N_delta] delta;\n",
    "}\n",
    "\n",
    "parameters {\n",
    "    real<lower=0> mu_auto;\n",
    "    real mu_delta;\n",
    "    real<lower=0> sigma_auto;\n",
    "    real<lower=0> sigma_delta;\n",
    "    vector[J] mu;\n",
    "    real<lower=0> sigma[J];\n",
    "    \n",
    "}\n",
    "\n",
    "model {\n",
    "    mu ~ normal(1000, 100);\n",
    "    mu_auto ~ lognormal(2, 2);\n",
    "    mu_delta ~ normal(1000, 100);\n",
    "    sigma_auto ~ normal(0, 10);\n",
    "    sigma_delta ~ normal(0, 10);\n",
    "    sigma ~ normal(0, 10);\n",
    "    autofl ~ normal(mu_auto, sigma_auto);\n",
    "    delta ~ normal(mu_delta + mu_auto, sigma_delta);\n",
    "    for (i in 1:N) {\n",
    "        means[i] ~ normal(mu[idx[i]] + mu_auto, sigma[idx[i]]);\n",
    "    }\n",
    "}\n",
    "\n",
    "generated quantities {\n",
    "    real fold_change[J];\n",
    "    for (i in 1:J) {\n",
    "        fold_change[i] = mu[i] / mu_delta;\n",
    "    }\n",
    "}"
   ]
  },
  {
   "cell_type": "code",
   "execution_count": null,
   "metadata": {},
   "outputs": [],
   "source": [
    "model = pystan.StanModel(model_code=fc_hier.model_code)"
   ]
  },
  {
   "cell_type": "code",
   "execution_count": 133,
   "metadata": {},
   "outputs": [],
   "source": [
    "# Load the data sets. \n",
    "data = pd.concat([pd.read_csv(f) for f in glob.glob('../processing/*27yfp*xan*/output/*fold_change*.csv')])\n",
    "data = data[['date', 'promoter', 'strain', 'xan_mgml', 'mean_FITC']]"
   ]
  },
  {
   "cell_type": "code",
   "execution_count": 134,
   "metadata": {},
   "outputs": [],
   "source": [
    "idx = data.groupby(['xan_mgml']).ngroup() + 1\n",
    "data['idx'] = idx\n",
    "xan_concs = {i:x for i, x in zip(data[data['strain']=='dilution']['idx'],\n",
    "                                 data[data['strain']=='dilution']['xan_mgml'])}\n",
    "\n"
   ]
  },
  {
   "cell_type": "code",
   "execution_count": 135,
   "metadata": {},
   "outputs": [],
   "source": [
    "data_dict = {'N':len(data[data['strain']=='dilution']), \n",
    "             'N_auto': len(data[data['strain']=='auto']),\n",
    "             'N_delta': len(data[data['strain']=='delta']),\n",
    "             'autofl': data[data['strain']=='auto']['mean_FITC'],\n",
    "             'delta': data[data['strain']=='delta']['mean_FITC'],\n",
    "             'J':data['idx'].max(),\n",
    "             'idx':data[data['strain']=='dilution']['idx'].astype(int), \n",
    "             'means':data[data['strain']=='dilution']['mean_FITC']}\n",
    "samples = model.sampling(data_dict, iter=10000, control=dict(adapt_delta=0.95))"
   ]
  },
  {
   "cell_type": "code",
   "execution_count": 136,
   "metadata": {},
   "outputs": [
    {
     "data": {
      "text/plain": [
       "Inference for Stan model: anon_model_085f0d2e54aecbdaf4d1be439aee34a1.\n",
       "4 chains, each with iter=10000; warmup=5000; thin=1; \n",
       "post-warmup draws per chain=5000, total post-warmup draws=20000.\n",
       "\n",
       "                  mean se_mean     sd   2.5%    25%    50%    75%  97.5%  n_eff   Rhat\n",
       "mu_auto         8199.0    1.01   88.8 8024.7 8140.6 8198.4 8258.2 8373.0   7658    1.0\n",
       "mu_delta         -1835    0.67  100.3  -2032  -1902  -1834  -1767  -1639  22590    1.0\n",
       "sigma_auto      463.42    0.05   5.66 452.34 459.57 463.44 467.21 474.34  15540    1.0\n",
       "sigma_delta     403.12    0.06    6.8 389.77 398.53 403.05 407.72 416.57  14393    1.0\n",
       "mu[1]            -1835    0.66 100.15  -2033  -1902  -1834  -1768  -1637  23089    1.0\n",
       "mu[2]            -1454    0.66  99.16  -1648  -1521  -1453  -1388  -1260  22733    1.0\n",
       "mu[3]            -1835    0.67 100.39  -2033  -1904  -1834  -1767  -1639  22189    1.0\n",
       "mu[4]            -1442    0.66  99.53  -1636  -1510  -1443  -1375  -1245  23012    1.0\n",
       "mu[5]            -1596    0.63  95.19  -1781  -1660  -1597  -1532  -1407  22661    1.0\n",
       "mu[6]           226.38    0.64  86.41  57.86 167.92 226.27 284.81 396.46  18073    1.0\n",
       "mu[7]           1667.0    0.56  88.75 1493.5 1607.2 1667.9 1726.8 1840.6  24913    1.0\n",
       "mu[8]           1344.7    0.57  91.46 1167.5 1282.4 1344.5 1406.2 1524.3  25822    1.0\n",
       "mu[9]           2696.4    0.57  96.81 2508.0 2632.3 2695.7 2761.3 2886.0  28759    1.0\n",
       "mu[10]          2979.1    0.57  98.05 2786.1 2912.5 2978.7 3045.9 3170.3  29243    1.0\n",
       "mu[11]          3190.5    0.57  97.83 2999.7 3124.9 3190.9 3256.9 3382.4  29699    1.0\n",
       "mu[12]          3092.4    0.56  97.75 2897.6 3026.9 3092.5 3157.3 3286.7  30366    1.0\n",
       "mu[13]          3423.9    0.56  98.35 3231.9 3357.2 3423.3 3490.1 3618.0  30326    1.0\n",
       "mu[14]          2779.6    0.57  98.16 2590.2 2711.6 2778.9 2846.9 2970.4  29294    1.0\n",
       "mu[15]          2561.7    0.56  98.72 2366.5 2495.8 2561.3 2628.6 2757.2  30884    1.0\n",
       "mu[16]          2627.7    0.58  99.38 2431.0 2560.8 2627.2 2694.9 2822.4  29236    1.0\n",
       "mu[17]          2535.5    0.55  98.61 2339.4 2469.4 2535.8 2602.3 2727.9  31800    1.0\n",
       "mu[18]          2711.9    0.56  98.66 2520.5 2645.6 2711.2 2778.8 2904.9  30959    1.0\n",
       "sigma[1]        403.24    0.06   6.88 389.76  398.6 403.24 407.82 416.83  13374    1.0\n",
       "sigma[2]        386.26    0.06    6.5  373.7  381.8 386.29  390.7 398.93  13903    1.0\n",
       "sigma[3]        401.07    0.06   6.85 387.45 396.45  401.1 405.66 414.37  13763    1.0\n",
       "sigma[4]        368.62    0.06   6.73 355.56 364.12 368.64 373.07 381.95  14587    1.0\n",
       "sigma[5]        334.65    0.06    6.9 321.05 330.02 334.65 339.32 348.16  15044    1.0\n",
       "sigma[6]        303.77    0.03   5.17 293.66 300.26 303.75  307.3 314.09  31433    1.0\n",
       "sigma[7]        477.58    0.03   5.01 467.86 474.23 477.54 480.95 487.45  29522    1.0\n",
       "sigma[8]        506.57    0.03   5.01 496.67 503.21 506.55 509.93 516.45  31710    1.0\n",
       "sigma[9]         628.5    0.03   5.27 618.29 624.93 628.48 632.05 638.94  25768    1.0\n",
       "sigma[10]       658.93    0.03   5.33  648.5 655.37 658.89 662.49 669.43  24958    1.0\n",
       "sigma[11]       739.59    0.03   5.38 729.28 735.91 739.51 743.23 750.18  24347    1.0\n",
       "sigma[12]       715.54    0.03   5.36 704.95 711.93 715.56 719.16 726.05  23999    1.0\n",
       "sigma[13]       835.56    0.03   5.33 825.21 831.95 835.55 839.12 846.07  23604    1.0\n",
       "sigma[14]       805.64    0.03   5.26  795.4 802.13 805.63 809.19 815.99  26836    1.0\n",
       "sigma[15]       821.23    0.03   5.17 811.11 817.71 821.22 824.69 831.43  29577    1.0\n",
       "sigma[16]        858.2    0.03   5.21 848.19  854.6 858.17 861.73 868.38  28145    1.0\n",
       "sigma[17]       948.78    0.03   5.08  938.9 945.32  948.8 952.16 958.79  29879    1.0\n",
       "sigma[18]       863.69    0.03   5.12 853.57 860.21  863.7 867.17 873.81  27017    1.0\n",
       "fold_change[1]     1.0  5.2e-4   0.08   0.86   0.95    1.0   1.05   1.16  22883    1.0\n",
       "fold_change[2]     0.8  4.6e-4   0.07   0.67   0.75   0.79   0.84   0.94  22195    1.0\n",
       "fold_change[3]     1.0  5.2e-4   0.08   0.86   0.95    1.0   1.05   1.16  22544    1.0\n",
       "fold_change[4]    0.79  4.7e-4   0.07   0.66   0.74   0.79   0.83   0.93  22389    1.0\n",
       "fold_change[5]    0.87  4.8e-4   0.07   0.74   0.82   0.87   0.92   1.02  21649    1.0\n",
       "fold_change[6]   -0.12  3.5e-4   0.05  -0.22  -0.16  -0.12  -0.09  -0.03  18443    1.0\n",
       "fold_change[7]   -0.91  4.4e-4   0.07  -1.06  -0.96  -0.91  -0.86  -0.78  24793    1.0\n",
       "fold_change[8]   -0.73  4.0e-4   0.06  -0.87  -0.78  -0.73  -0.69  -0.62  25303    1.0\n",
       "fold_change[9]   -1.47  6.3e-4    0.1  -1.68  -1.54  -1.47  -1.41  -1.29  23834    1.0\n",
       "fold_change[10]  -1.63  6.6e-4    0.1  -1.85  -1.69  -1.62  -1.56  -1.44  24867    1.0\n",
       "fold_change[11]  -1.74  7.2e-4   0.11  -1.97  -1.82  -1.74  -1.67  -1.54  22988    1.0\n",
       "fold_change[12]  -1.69  6.9e-4   0.11  -1.92  -1.76  -1.69  -1.62  -1.49  24588    1.0\n",
       "fold_change[13]  -1.87  7.6e-4   0.12  -2.11  -1.95  -1.87  -1.79  -1.66  23489    1.0\n",
       "fold_change[14]  -1.52  6.4e-4    0.1  -1.73  -1.58  -1.51  -1.45  -1.34  24349    1.0\n",
       "fold_change[15]   -1.4  6.0e-4   0.09   -1.6  -1.46   -1.4  -1.34  -1.23  24546    1.0\n",
       "fold_change[16]  -1.44  6.2e-4    0.1  -1.64   -1.5  -1.43  -1.37  -1.26  24373    1.0\n",
       "fold_change[17]  -1.39  6.1e-4   0.09  -1.58  -1.45  -1.38  -1.32  -1.21  23539    1.0\n",
       "fold_change[18]  -1.48  6.2e-4    0.1  -1.68  -1.55  -1.48  -1.41   -1.3  25206    1.0\n",
       "lp__            -8.4e4    0.05   4.47 -8.4e4 -8.4e4 -8.4e4 -8.4e4 -8.4e4   8626    1.0\n",
       "\n",
       "Samples were drawn using NUTS at Wed Feb 13 15:33:54 2019.\n",
       "For each parameter, n_eff is a crude measure of effective sample size,\n",
       "and Rhat is the potential scale reduction factor on split chains (at \n",
       "convergence, Rhat=1)."
      ]
     },
     "execution_count": 136,
     "metadata": {},
     "output_type": "execute_result"
    }
   ],
   "source": [
    "samples"
   ]
  },
  {
   "cell_type": "code",
   "execution_count": 130,
   "metadata": {},
   "outputs": [
    {
     "data": {
      "text/plain": [
       "{7: 1.0,\n",
       " 3: 0.1,\n",
       " 13: 4.0,\n",
       " 12: 3.5,\n",
       " 11: 3.0,\n",
       " 2: 0.05,\n",
       " 10: 2.5,\n",
       " 5: 0.5,\n",
       " 6: 0.75,\n",
       " 8: 1.5,\n",
       " 4: 0.25,\n",
       " 1: 0.0,\n",
       " 9: 2.0,\n",
       " 17: 8.0,\n",
       " 14: 5.0,\n",
       " 16: 7.0,\n",
       " 18: 10.0,\n",
       " 15: 6.0}"
      ]
     },
     "execution_count": 130,
     "metadata": {},
     "output_type": "execute_result"
    }
   ],
   "source": [
    "xan_concs"
   ]
  },
  {
   "cell_type": "code",
   "execution_count": 131,
   "metadata": {},
   "outputs": [
    {
     "data": {
      "image/png": "[encoded data removed]",
      "text/plain": [
       "<Figure size 432x288 with 1 Axes>"
      ]
     },
     "metadata": {
      "needs_background": "light"
     },
     "output_type": "display_data"
    }
   ],
   "source": [
    "samples_df = samples.to_dataframe()\n",
    "fig, ax = plt.subplots(1, 1, figsize=(6, 4))\n",
    "bins = np.logspace(1, 5, 200)\n",
    "\n",
    "for i in range(data['idx'].max()):\n",
    "    ax.hist(samples_df[f'mu[{i+1}]'], bins=100)\n"
   ]
  },
  {
   "cell_type": "code",
   "execution_count": 132,
   "metadata": {},
   "outputs": [
    {
     "data": {
      "text/plain": [
       "(array([  1.,   1.,   2.,   1.,   1.,   2.,   4.,   7.,   9.,  10.,  15.,\n",
       "         30.,  36.,  39.,  52.,  59.,  79.,  95., 117., 157., 175., 181.,\n",
       "        238., 309., 307., 390., 417., 451., 564., 575., 609., 654., 718.,\n",
       "        737., 778., 809., 774., 843., 771., 824., 775., 757., 687., 700.,\n",
       "        637., 585., 548., 492., 420., 414., 371., 281., 242., 212., 219.,\n",
       "        144., 150., 115.,  74.,  82.,  68.,  46.,  35.,  25.,  22.,  10.,\n",
       "         17.,   5.,  12.,   4.,   5.,   2.,   1.,   1.,   1.]),\n",
       " array([7862.48832857, 7871.43489099, 7880.3814534 , 7889.32801581,\n",
       "        7898.27457822, 7907.22114063, 7916.16770304, 7925.11426545,\n",
       "        7934.06082786, 7943.00739027, 7951.95395268, 7960.90051509,\n",
       "        7969.8470775 , 7978.79363992, 7987.74020233, 7996.68676474,\n",
       "        8005.63332715, 8014.57988956, 8023.52645197, 8032.47301438,\n",
       "        8041.41957679, 8050.3661392 , 8059.31270161, 8068.25926402,\n",
       "        8077.20582643, 8086.15238884, 8095.09895126, 8104.04551367,\n",
       "        8112.99207608, 8121.93863849, 8130.8852009 , 8139.83176331,\n",
       "        8148.77832572, 8157.72488813, 8166.67145054, 8175.61801295,\n",
       "        8184.56457536, 8193.51113777, 8202.45770019, 8211.4042626 ,\n",
       "        8220.35082501, 8229.29738742, 8238.24394983, 8247.19051224,\n",
       "        8256.13707465, 8265.08363706, 8274.03019947, 8282.97676188,\n",
       "        8291.92332429, 8300.8698867 , 8309.81644911, 8318.76301153,\n",
       "        8327.70957394, 8336.65613635, 8345.60269876, 8354.54926117,\n",
       "        8363.49582358, 8372.44238599, 8381.3889484 , 8390.33551081,\n",
       "        8399.28207322, 8408.22863563, 8417.17519804, 8426.12176046,\n",
       "        8435.06832287, 8444.01488528, 8452.96144769, 8461.9080101 ,\n",
       "        8470.85457251, 8479.80113492, 8488.74769733, 8497.69425974,\n",
       "        8506.64082215, 8515.58738456, 8524.53394697, 8533.48050938]),\n",
       " <a list of 75 Patch objects>)"
      ]
     },
     "execution_count": 132,
     "metadata": {},
     "output_type": "execute_result"
    },
    {
     "data": {
      "image/png": "[encoded data removed]",
      "text/plain": [
       "<Figure size 432x288 with 1 Axes>"
      ]
     },
     "metadata": {
      "needs_background": "light"
     },
     "output_type": "display_data"
    }
   ],
   "source": [
    "plt.hist(samples_df['mu_auto'] + samples_df['mu_delta'], bins=75, alpha=0.5)\n",
    "plt.hist(samples_df['mu_auto'], bins=75, alpha=0.5)"
   ]
  },
  {
   "cell_type": "code",
   "execution_count": null,
   "metadata": {},
   "outputs": [],
   "source": []
  },
  {
   "cell_type": "code",
   "execution_count": null,
   "metadata": {},
   "outputs": [],
   "source": []
  },
  {
   "cell_type": "code",
   "execution_count": null,
   "metadata": {},
   "outputs": [],
   "source": []
  },
  {
   "cell_type": "code",
   "execution_count": null,
   "metadata": {},
   "outputs": [],
   "source": []
  },
  {
   "cell_type": "code",
   "execution_count": null,
   "metadata": {},
   "outputs": [],
   "source": []
  }
 ],
 "metadata": {
  "kernelspec": {
   "display_name": "Python 3",
   "language": "python",
   "name": "python3"
  },
  "language_info": {
   "codemirror_mode": {
    "name": "ipython",
    "version": 3
   },
   "file_extension": ".py",
   "mimetype": "text/x-python",
   "name": "python",
   "nbconvert_exporter": "python",
   "pygments_lexer": "ipython3",
   "version": "3.6.7"
  }
 },
 "nbformat": 4,
 "nbformat_minor": 2
}
